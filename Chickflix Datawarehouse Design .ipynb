{
 "cells": [
  {
   "cell_type": "code",
   "execution_count": 2,
   "id": "fcb87f33",
   "metadata": {},
   "outputs": [],
   "source": [
    "import psycopg2"
   ]
  },
  {
   "cell_type": "code",
   "execution_count": 5,
   "id": "ad571173",
   "metadata": {},
   "outputs": [],
   "source": [
    "# Replace these values with your PostgreSQL connection details\n",
    "dbname = 'chickflix'\n",
    "user = 'ambukrehani'\n",
    "password = 'ambuk'\n",
    "host = 'localhost' # or your host\n",
    "\n",
    "conn = psycopg2.connect(dbname=dbname, user=user, password=password, host=host)\n",
    "\n",
    "# Creating a cursor object using the cursor() method\n",
    "cursor = conn.cursor()\n"
   ]
  },
  {
   "cell_type": "code",
   "execution_count": 6,
   "id": "94752580",
   "metadata": {},
   "outputs": [],
   "source": [
    "# Drop tables if they already exist\n",
    "cursor.execute(\"DROP TABLE IF EXISTS Movies CASCADE;\")\n",
    "cursor.execute(\"DROP TABLE IF EXISTS Actors CASCADE;\")\n",
    "cursor.execute(\"DROP TABLE IF EXISTS Revenue CASCADE;\")\n",
    "\n",
    "# Create Movies table\n",
    "cursor.execute(\"\"\"\n",
    "CREATE TABLE Movies (\n",
    "    movie_id INTEGER PRIMARY KEY,\n",
    "    title VARCHAR(255),\n",
    "    release_date DATE\n",
    ");\n",
    "\"\"\")\n",
    "\n",
    "# Create Actors table\n",
    "cursor.execute(\"\"\"\n",
    "CREATE TABLE Actors (\n",
    "    actor_id INTEGER PRIMARY KEY,\n",
    "    name VARCHAR(255),\n",
    "    movie_ids VARCHAR(255) -- This is a simplification for the example\n",
    ");\n",
    "\"\"\")\n",
    "\n",
    "# Create Revenue table\n",
    "cursor.execute(\"\"\"\n",
    "CREATE TABLE Revenue (\n",
    "    revenue_id INTEGER PRIMARY KEY,\n",
    "    movie_id INTEGER,\n",
    "    amount DECIMAL,\n",
    "    date DATE,\n",
    "    FOREIGN KEY (movie_id) REFERENCES Movies (movie_id)\n",
    ");\n",
    "\"\"\")\n",
    "#Create Characters table\n",
    "\n",
    "\n",
    "conn.commit()\n"
   ]
  },
  {
   "cell_type": "code",
   "execution_count": 46,
   "id": "a1b64388",
   "metadata": {},
   "outputs": [],
   "source": [
    "conn.rollback()"
   ]
  },
  {
   "cell_type": "code",
   "execution_count": 47,
   "id": "cbe6d6a9",
   "metadata": {},
   "outputs": [],
   "source": [
    "cursor.execute(\"\"\"CREATE TABLE Characters (\n",
    "    character_id SERIAL PRIMARY KEY,\n",
    "    name VARCHAR(255),\n",
    "    movie_id INTEGER,\n",
    "    actor_id INTEGER,\n",
    "    FOREIGN KEY (movie_id) REFERENCES Movies(movie_id),\n",
    "    FOREIGN KEY (actor_id) REFERENCES Actors(actor_id)\n",
    ");\n",
    "\"\"\")\n",
    "conn.commit()"
   ]
  },
  {
   "cell_type": "code",
   "execution_count": 50,
   "id": "67bd2dbc",
   "metadata": {},
   "outputs": [],
   "source": [
    "movies_data = [\n",
    "    (1, 'Interstellar', '2014-11-07'),\n",
    "    (2, 'Call Me by Your Name', '2017-11-24'),\n",
    "    (3, 'Little Women', '2019-12-25'),\n",
    "    (4, 'Dune', '2021-10-22'),\n",
    "    (5, 'The French Dispatch', '2021-10-22')\n",
    "]\n",
    "\n",
    "\n",
    "actors_data = [\n",
    "    (1, 'Timothée Chalamet', '2,3,4,5'),\n",
    "    (2, 'Rebecca Ferguson', '4'),\n",
    "    (3, 'Saoirse Ronan', '3'),\n",
    "    (4, 'Zendaya', '4'),\n",
    "    (5, 'Oscar Isaac', '4')\n",
    "]\n",
    "\n",
    "\n",
    "revenue_data = [\n",
    "    (1, 1, 47, '2014-11-10'),\n",
    "    (2, 2, 13, '2017-11-27'),\n",
    "    (3, 3, 20, '2019-12-28'),\n",
    "    (4, 4, 40, '2021-10-25'),\n",
    "    (5, 5, 11, '2021-10-25')\n",
    "]\n",
    "\n",
    "characters_data = [\n",
    "    ('Paul Atreides', 4, 1), \n",
    "('Lady Jessica', 4, 2),  \n",
    "('Amy March', 3, 3),  \n",
    "('Zach', 5, 1),\n",
    "('Chani', 4, 4)\n",
    "]"
   ]
  },
  {
   "cell_type": "code",
   "execution_count": 25,
   "id": "5639c50e",
   "metadata": {},
   "outputs": [],
   "source": [
    "conn.rollback()"
   ]
  },
  {
   "cell_type": "code",
   "execution_count": 22,
   "id": "cc27a4c5",
   "metadata": {},
   "outputs": [
    {
     "name": "stdout",
     "output_type": "stream",
     "text": [
      "Error:\n",
      "duplicate key value violates unique constraint \"movies_pkey\"\n",
      "DETAIL:  Key (movie_id)=(1) already exists.\n",
      "\n"
     ]
    }
   ],
   "source": [
    "try:\n",
    "    cursor.executemany(\"INSERT INTO Movies (movie_id, title, release_date) VALUES (%s, %s, %s)\", movies_data)\n",
    "except psycopg2.Error as e:\n",
    "    print(\"Error:\")\n",
    "    print(e)"
   ]
  },
  {
   "cell_type": "code",
   "execution_count": 26,
   "id": "14a4b803",
   "metadata": {},
   "outputs": [
    {
     "name": "stdout",
     "output_type": "stream",
     "text": [
      "Error:\n",
      "duplicate key value violates unique constraint \"movies_pkey\"\n",
      "DETAIL:  Key (movie_id)=(1) already exists.\n",
      "\n"
     ]
    }
   ],
   "source": [
    "try:\n",
    "    cursor.executemany(\"INSERT INTO Movies (movie_id, title, release_date) VALUES (%s, %s, %s)\", movies_data)\n",
    "except psycopg2.Error as e:\n",
    "    print(\"Error:\")\n",
    "    print(e)"
   ]
  },
  {
   "cell_type": "code",
   "execution_count": 28,
   "id": "42608382",
   "metadata": {},
   "outputs": [],
   "source": [
    "conn.rollback()"
   ]
  },
  {
   "cell_type": "code",
   "execution_count": 32,
   "id": "aaf39057",
   "metadata": {},
   "outputs": [],
   "source": [
    "try:\n",
    "    cursor.executemany(\"INSERT INTO Actors (actor_id, name, movie_ids) VALUES (%s, %s, %s)\", actors_data)\n",
    "except psycopg2.Error as e:\n",
    "    print(\"Error:\")\n",
    "    print(e)"
   ]
  },
  {
   "cell_type": "code",
   "execution_count": 30,
   "id": "287cd02a",
   "metadata": {},
   "outputs": [],
   "source": [
    "conn.rollback()"
   ]
  },
  {
   "cell_type": "code",
   "execution_count": 31,
   "id": "2dd32bef",
   "metadata": {},
   "outputs": [],
   "source": [
    "cursor.executemany(\"INSERT INTO Revenue (revenue_id, movie_id, amount, date) VALUES (%s, %s, %s, %s)\", revenue_data)  # Assuming the first record is already inserted\n",
    "conn.commit()\n"
   ]
  },
  {
   "cell_type": "code",
   "execution_count": 33,
   "id": "043180d2",
   "metadata": {},
   "outputs": [],
   "source": [
    "conn.commit()"
   ]
  },
  {
   "cell_type": "code",
   "execution_count": 52,
   "id": "daf61c97",
   "metadata": {},
   "outputs": [],
   "source": [
    "conn.rollback()"
   ]
  },
  {
   "cell_type": "code",
   "execution_count": 53,
   "id": "6d4ec4fe",
   "metadata": {},
   "outputs": [],
   "source": [
    "try:\n",
    "    cursor.executemany(\"INSERT INTO Characters (name, movie_id, actor_id) VALUES (%s, %s, %s)\", characters_data)\n",
    "except psycopg2.Error as e:\n",
    "    print(\"Error:\")\n",
    "    print(e)\n"
   ]
  },
  {
   "cell_type": "code",
   "execution_count": 54,
   "id": "f6a87a9b",
   "metadata": {},
   "outputs": [],
   "source": [
    "conn.commit()"
   ]
  },
  {
   "cell_type": "code",
   "execution_count": 40,
   "id": "1336ee5b",
   "metadata": {},
   "outputs": [],
   "source": [
    "conn.rollback()"
   ]
  },
  {
   "cell_type": "code",
   "execution_count": null,
   "id": "8bfee918",
   "metadata": {},
   "outputs": [],
   "source": [
    "# Create dimension tables\n",
    "cursor.execute(\"\"\"\n",
    "CREATE TABLE DimMovies (\n",
    "    MovieID SERIAL PRIMARY KEY,\n",
    "    Title VARCHAR(255),\n",
    "    ReleaseDate DATE\n",
    ")\n",
    "\"\"\")\n",
    "\n",
    "cursor.execute(\"\"\"\n",
    "CREATE TABLE DimActors (\n",
    "    ActorID SERIAL PRIMARY KEY,\n",
    "    Name VARCHAR(255)\n",
    ")\n",
    "\"\"\")\n",
    "\n",
    "cursor.execute(\"\"\"\n",
    "CREATE TABLE DimDate (\n",
    "    DateID SERIAL PRIMARY KEY,\n",
    "    Date DATE,\n",
    "    Year INT,\n",
    "    Month INT,\n",
    "    Day INT\n",
    ")\n",
    "\"\"\")\n",
    "\n",
    "# Create fact table\n",
    "cursor.execute(\"\"\"\n",
    "CREATE TABLE FactRevenue (\n",
    "    RevenueID SERIAL PRIMARY KEY,\n",
    "    MovieID INT,\n",
    "    DateID INT,\n",
    "    Revenue DECIMAL(10,2),\n",
    "    FOREIGN KEY (MovieID) REFERENCES DimMovies(MovieID),\n",
    "    FOREIGN KEY (DateID) REFERENCES DimDate(DateID)\n",
    ")\n",
    "\"\"\")\n",
    "\n",
    "\n",
    "\n",
    "conn.commit()\n"
   ]
  },
  {
   "cell_type": "code",
   "execution_count": 77,
   "id": "0e182eb9",
   "metadata": {},
   "outputs": [],
   "source": [
    "conn.rollback()"
   ]
  },
  {
   "cell_type": "code",
   "execution_count": 59,
   "id": "a5a5f90c",
   "metadata": {},
   "outputs": [],
   "source": [
    "cursor.execute(\"\"\"\n",
    "CREATE TABLE DimCharacters (\n",
    "    character_id SERIAL PRIMARY KEY,\n",
    "    name VARCHAR(255),\n",
    "    movie_id INTEGER,\n",
    "    actor_id INTEGER,\n",
    "    movie_title VARCHAR(255),\n",
    "    actor_name VARCHAR(255),\n",
    "    FOREIGN KEY (movie_id) REFERENCES DimMovies(movieid),\n",
    "    FOREIGN KEY (actor_id) REFERENCES DimActors(actorid)\n",
    ")\"\"\")\n",
    "conn.commit()"
   ]
  },
  {
   "cell_type": "code",
   "execution_count": 41,
   "id": "9696cfe1",
   "metadata": {},
   "outputs": [],
   "source": [
    "cursor.execute(\"\"\"\n",
    "INSERT INTO DimMovies (movieid, title, releasedate)\n",
    "SELECT movie_id, title, release_date FROM Movies;\n",
    "\"\"\")\n",
    "conn.commit()\n"
   ]
  },
  {
   "cell_type": "code",
   "execution_count": 42,
   "id": "6e6afae7",
   "metadata": {},
   "outputs": [],
   "source": [
    "cursor.execute(\"\"\"\n",
    "INSERT INTO DimActors (actorid, name)\n",
    "SELECT actor_id, name FROM Actors;\n",
    "\"\"\")\n",
    "conn.commit()"
   ]
  },
  {
   "cell_type": "code",
   "execution_count": 60,
   "id": "b8bf46f8",
   "metadata": {},
   "outputs": [],
   "source": [
    "cursor.execute(\"\"\"\n",
    "INSERT INTO DimCharacters (character_id, name, movie_id, actor_id, movie_title, actor_name)\n",
    "SELECT c.character_id, c.name, c.movie_id, c.actor_id, m.title, a.name\n",
    "FROM Characters c\n",
    "JOIN Movies m ON c.movie_id = m.movie_id\n",
    "JOIN Actors a ON c.actor_id = a.actor_id;\n",
    "\n",
    "\"\"\")\n",
    "\n"
   ]
  },
  {
   "cell_type": "code",
   "execution_count": 61,
   "id": "8554ccb5",
   "metadata": {},
   "outputs": [],
   "source": [
    "conn.commit()"
   ]
  },
  {
   "cell_type": "code",
   "execution_count": 80,
   "id": "49002960",
   "metadata": {},
   "outputs": [],
   "source": [
    "conn.rollback()"
   ]
  },
  {
   "cell_type": "code",
   "execution_count": 82,
   "id": "65bcaedd",
   "metadata": {},
   "outputs": [],
   "source": [
    "cursor.execute(\"\"\"\n",
    "INSERT INTO FactRevenue (revenueid, movieid, dateid, revenue)\n",
    "SELECT r.revenue_id, r.movie_id, d.dateid, r.amount\n",
    "FROM Revenue r\n",
    "JOIN DimDate d ON r.date = d.date;\n",
    "\"\"\")\n",
    "conn.commit()\n"
   ]
  },
  {
   "cell_type": "code",
   "execution_count": 81,
   "id": "11894864",
   "metadata": {},
   "outputs": [],
   "source": [
    "cursor.execute(\"\"\"\n",
    "INSERT INTO DimDate (date, year, month, day) VALUES\n",
    "('2014-11-10', 2014, 11, 10),\n",
    "('2017-11-27', 2017, 11, 27),\n",
    "('2019-12-28', 2019, 12, 28),\n",
    "('2021-10-25', 2021, 10, 25);\n",
    "\"\"\")\n",
    "conn.commit()\n"
   ]
  },
  {
   "cell_type": "code",
   "execution_count": 83,
   "id": "1a507797",
   "metadata": {},
   "outputs": [],
   "source": [
    "#Query to display the data which is has only Timothee Chalamet as an actor\n",
    "\n",
    "cursor.execute(\"\"\"\n",
    "SELECT DISTINCT m.movieid, m.title\n",
    "FROM DimMovies m\n",
    "JOIN DimCharacters c ON m.movieid = c.movie_id\n",
    "JOIN DimActors a ON c.actor_id = a.actorid\n",
    "WHERE a.name = 'Timothée Chalamet';\n",
    "\"\"\")\n",
    "\n"
   ]
  },
  {
   "cell_type": "code",
   "execution_count": 84,
   "id": "0f05b1bb",
   "metadata": {},
   "outputs": [],
   "source": [
    "#movies with at least $10 million in revenue in their first 3 days\n",
    "\n",
    "cursor.execute(\"\"\"SELECT m.movieid, m.title\n",
    "FROM DimMovies m\n",
    "JOIN FactRevenue fr ON m.movieid = fr.movieid\n",
    "WHERE fr.revenue >= 10;\n",
    "\"\"\")"
   ]
  },
  {
   "cell_type": "code",
   "execution_count": 85,
   "id": "a4272c63",
   "metadata": {},
   "outputs": [],
   "source": [
    "#movies that feature at least one character from \"Dune\" (excluding Timothée Chalamet's character),\n",
    "\n",
    "\n",
    "cursor.execute(\"\"\"SELECT DISTINCT m.movieid, m.title\n",
    "FROM DimMovies m\n",
    "JOIN DimCharacters c ON m.movieid = c.movie_id\n",
    "JOIN DimActors a ON c.actor_id = a.actorid\n",
    "WHERE m.title = 'Dune' AND a.name != 'Timothée Chalamet';\n",
    "\"\"\")\n",
    "\n",
    "\n"
   ]
  },
  {
   "cell_type": "code",
   "execution_count": null,
   "id": "6ae7f019",
   "metadata": {},
   "outputs": [],
   "source": []
  }
 ],
 "metadata": {
  "kernelspec": {
   "display_name": "Python 3 (ipykernel)",
   "language": "python",
   "name": "python3"
  },
  "language_info": {
   "codemirror_mode": {
    "name": "ipython",
    "version": 3
   },
   "file_extension": ".py",
   "mimetype": "text/x-python",
   "name": "python",
   "nbconvert_exporter": "python",
   "pygments_lexer": "ipython3",
   "version": "3.9.13"
  }
 },
 "nbformat": 4,
 "nbformat_minor": 5
}
