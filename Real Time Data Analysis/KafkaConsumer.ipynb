{
 "cells": [
  {
   "cell_type": "code",
   "execution_count": 4,
   "id": "0cbbb92b",
   "metadata": {},
   "outputs": [],
   "source": [
    "import pandas as pd\n",
    "from kafka import KafkaConsumer, KafkaProducer\n",
    "from time import sleep\n",
    "from json import dumps, loads\n",
    "import json "
   ]
  },
  {
   "cell_type": "code",
   "execution_count": 5,
   "id": "a8fc0a31",
   "metadata": {},
   "outputs": [],
   "source": [
    "consumer = KafkaConsumer('demo_test12', \n",
    "                         bootstrap_servers = ['34.220.99.221:9092'], \n",
    "                        value_deserializer = lambda x:\n",
    "                        loads(x.decode('utf=8')))"
   ]
  },
  {
   "cell_type": "code",
   "execution_count": null,
   "id": "ad34d42b",
   "metadata": {},
   "outputs": [],
   "source": [
    "for c in consumer:\n",
    "    print(c.value)"
   ]
  },
  {
   "cell_type": "code",
   "execution_count": null,
   "id": "6db92688",
   "metadata": {},
   "outputs": [],
   "source": []
  }
 ],
 "metadata": {
  "kernelspec": {
   "display_name": "Python 3 (ipykernel)",
   "language": "python",
   "name": "python3"
  },
  "language_info": {
   "codemirror_mode": {
    "name": "ipython",
    "version": 3
   },
   "file_extension": ".py",
   "mimetype": "text/x-python",
   "name": "python",
   "nbconvert_exporter": "python",
   "pygments_lexer": "ipython3",
   "version": "3.9.13"
  }
 },
 "nbformat": 4,
 "nbformat_minor": 5
}
